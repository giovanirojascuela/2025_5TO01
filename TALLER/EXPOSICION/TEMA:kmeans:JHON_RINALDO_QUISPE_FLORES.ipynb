{
  "nbformat": 4,
  "nbformat_minor": 0,
  "metadata": {
    "colab": {
      "provenance": []
    },
    "kernelspec": {
      "name": "python3",
      "display_name": "Python 3"
    },
    "language_info": {
      "name": "python"
    }
  },
  "cells": [
    {
      "cell_type": "markdown",
      "source": [
        "## EJEMPLO ##"
      ],
      "metadata": {
        "id": "7t2jsfSX4gak"
      }
    },
    {
      "cell_type": "code",
      "source": [
        "from sklearn.cluster import KMeans\n",
        "from sklearn.preprocessing import StandardScaler\n",
        "import pandas as pd\n",
        "\n",
        "# Carga de datos\n",
        "clientes = pd.read_csv(\"clientes.csv\")\n",
        "\n",
        "# Selección de variables relevantes\n",
        "X = clientes[[\"frecuencia_compra\", \"monto_total\", \"dias_desde_ultima_compra\"]]\n",
        "\n",
        "# Escalado de datos\n",
        "scaler = StandardScaler()\n",
        "X_scaled = scaler.fit_transform(X)\n",
        "\n",
        "# Modelo K-means\n",
        "kmeans = KMeans(n_clusters=3, random_state=42)\n",
        "clientes[\"segmento\"] = kmeans.fit_predict(X_scaled)\n",
        "\n",
        "# Resultado\n",
        "print(clientes.groupby(\"segmento\").mean())\n"
      ],
      "metadata": {
        "colab": {
          "base_uri": "https://localhost:8080/"
        },
        "id": "FYe-0WbP4rWD",
        "outputId": "12a3f82e-7761-496e-b059-41c51515e0c0"
      },
      "execution_count": 3,
      "outputs": [
        {
          "output_type": "stream",
          "name": "stdout",
          "text": [
            "          cliente_id  frecuencia_compra  monto_total  dias_desde_ultima_compra\n",
            "segmento                                                                      \n",
            "0          94.242424           7.257576   410.662763                142.318182\n",
            "1         114.768116          10.159420   645.558240                176.173913\n",
            "2          91.707692          12.523077   413.074025                233.092308\n"
          ]
        }
      ]
    }
  ]
}
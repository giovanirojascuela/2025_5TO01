{
  "nbformat": 4,
  "nbformat_minor": 0,
  "metadata": {
    "colab": {
      "provenance": [],
      "authorship_tag": "ABX9TyO7XM4Ghsl9l9QyH+ZAFcYT",
      "include_colab_link": true
    },
    "kernelspec": {
      "name": "python3",
      "display_name": "Python 3"
    },
    "language_info": {
      "name": "python"
    }
  },
  "cells": [
    {
      "cell_type": "markdown",
      "metadata": {
        "id": "view-in-github",
        "colab_type": "text"
      },
      "source": [
        "<a href=\"https://colab.research.google.com/github/giovanirojascuela/2025_5TO01/blob/main/TALLER/Dia%2002/PRACTICA_04.ipynb\" target=\"_parent\"><img src=\"https://colab.research.google.com/assets/colab-badge.svg\" alt=\"Open In Colab\"/></a>"
      ]
    },
    {
      "cell_type": "markdown",
      "source": [
        "# PRACTICA_04"
      ],
      "metadata": {
        "id": "IbidGI_7FPWW"
      }
    },
    {
      "cell_type": "markdown",
      "source": [
        "Realice la construcción del modelo, entrenamiento, predicción, y grafico de regresión lineal con los siguientes datos:\n",
        "x\ty\n",
        "10\t15\n",
        "11\t16\n",
        "13\t18\n",
        "15\t19\n",
        "13\t17\n",
        "12\t16\n",
        "10\t16\n",
        "11\t17\n",
        "15\t20\n",
        "10\t16"
      ],
      "metadata": {
        "id": "JLzAIhHHFJwV"
      }
    },
    {
      "cell_type": "code",
      "execution_count": null,
      "metadata": {
        "id": "dYCsb3JFFJJ1"
      },
      "outputs": [],
      "source": [
        "\n",
        "\n"
      ]
    }
  ]
}